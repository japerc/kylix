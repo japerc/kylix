{
 "cells": [
  {
   "cell_type": "code",
   "execution_count": null,
   "id": "d4e4054e-8f5b-4cec-83fb-22cd5b70668e",
   "metadata": {},
   "outputs": [],
   "source": [
    "import requests\n",
    "import json\n",
    "import pandas as pd\n",
    "from pathlib import Path\n",
    "from fastai.vision.all import download_images"
   ]
  },
  {
   "cell_type": "markdown",
   "id": "924c76eb-0a5d-4c25-aee3-633efe4c3f7c",
   "metadata": {},
   "source": [
    "# Download Kylix"
   ]
  },
  {
   "cell_type": "code",
   "execution_count": null,
   "id": "8555427b-fb61-4be6-b055-9bade2ec03c9",
   "metadata": {},
   "outputs": [],
   "source": [
    "met_dir = pd.read_csv('./MetObjects.csv').query(\"`Is Public Domain`\")"
   ]
  },
  {
   "cell_type": "code",
   "execution_count": null,
   "id": "c57ad477-9f40-42eb-8c5c-752721d47aa2",
   "metadata": {},
   "outputs": [],
   "source": [
    "met_dir.head(2)"
   ]
  },
  {
   "cell_type": "code",
   "execution_count": null,
   "id": "d953be91-fcf7-46a5-9ba0-90c1e8eaed4d",
   "metadata": {},
   "outputs": [],
   "source": [
    "met_dir.value_counts(subset='Object Name').head(15).to_frame().T"
   ]
  },
  {
   "cell_type": "code",
   "execution_count": null,
   "id": "c6a85c6d-aff3-455a-bd3d-1902e4cc17c8",
   "metadata": {},
   "outputs": [],
   "source": [
    "kylix = met_dir.query(\"`Object Name` == 'Kylix fragment'\")"
   ]
  },
  {
   "cell_type": "code",
   "execution_count": null,
   "id": "586c9548-f28c-4572-b88d-165dc4a5d93b",
   "metadata": {},
   "outputs": [],
   "source": [
    "def get_met_object(object_id):\n",
    "  return requests.get(f'https://collectionapi.metmuseum.org/public/collection/v1/objects/{object_id}')\n",
    "\n",
    "def get_met_image_links(ids):\n",
    "  if isinstance(ids, int):\n",
    "    ids = [ids]\n",
    "  for id in ids:\n",
    "    link = json.loads(get_met_object(id).text).get('primaryImageSmall')\n",
    "    yield link\n"
   ]
  },
  {
   "cell_type": "code",
   "execution_count": null,
   "id": "959bf780-7209-4a53-bf68-efaf3345ebdc",
   "metadata": {},
   "outputs": [],
   "source": [
    "kylix_sample_classical"
   ]
  },
  {
   "cell_type": "code",
   "execution_count": null,
   "id": "3501c1b1-be38-49b1-bf16-10efe3cf2c84",
   "metadata": {},
   "outputs": [],
   "source": [
    "kylix_sample_classical.to_csv('./foofile', index=False)"
   ]
  },
  {
   "cell_type": "code",
   "execution_count": null,
   "id": "d88ee431-c65a-4aa0-95d7-3c89167cc207",
   "metadata": {},
   "outputs": [],
   "source": [
    "kylix.columns"
   ]
  },
  {
   "cell_type": "code",
   "execution_count": null,
   "id": "7014f887-1f0a-4f34-9185-81a07e8f751f",
   "metadata": {},
   "outputs": [],
   "source": [
    "path = Path('./kylix_fragments')\n",
    "periods = 'archaic', 'classical'\n",
    "random_state = 42\n",
    "sample_size = 2000\n",
    "\n",
    "if not path.exists():\n",
    "    path.mkdir()\n",
    "for p in periods:\n",
    "    dest = (path/p)\n",
    "    index_dest = (path/f'{p}_ids')\n",
    "    dest.mkdir(exist_ok=True)\n",
    "    # links = search_images_bing(key, f'{p} kylix fragment', max_images=500)\n",
    "    ids = kylix.query(f\"Period == '{p.capitalize()}'\")['Object ID'].sample(sample_size, random_state=random_state)\n",
    "    ids.to_csv(index_dest, index=False)\n",
    "    links = get_met_image_links(ids)\n",
    "    download_images(dest, urls=list(links))"
   ]
  },
  {
   "cell_type": "code",
   "execution_count": null,
   "id": "4723d0e5-196f-43be-97f8-cc70cd89aaee",
   "metadata": {},
   "outputs": [],
   "source": []
  }
 ],
 "metadata": {
  "kernelspec": {
   "display_name": "Python 3 (ipykernel)",
   "language": "python",
   "name": "python3"
  },
  "language_info": {
   "codemirror_mode": {
    "name": "ipython",
    "version": 3
   },
   "file_extension": ".py",
   "mimetype": "text/x-python",
   "name": "python",
   "nbconvert_exporter": "python",
   "pygments_lexer": "ipython3",
   "version": "3.9.21"
  }
 },
 "nbformat": 4,
 "nbformat_minor": 5
}
